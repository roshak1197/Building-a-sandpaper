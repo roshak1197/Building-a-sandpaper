{
 "cells": [
  {
   "cell_type": "code",
   "execution_count": 52,
   "id": "01bf4ac1",
   "metadata": {},
   "outputs": [],
   "source": [
    "import random\n",
    "import matplotlib.pyplot as plt\n",
    "import numpy as np\n",
    "import tqdm "
   ]
  },
  {
   "cell_type": "code",
   "execution_count": 65,
   "id": "99ed4ac0",
   "metadata": {},
   "outputs": [],
   "source": [
    "box_size1 = 1 \n",
    "box_size2 = 10\n",
    "box_size3 = 10 #en cm\n",
    "box_size = 10\n",
    "sphere_diameter = 3# 4 um\n",
    "sphere_radius = sphere_diameter / 2\n",
    "sphere_volume = (4/3) * np.pi * sphere_radius**3\n",
    "\n",
    "max_attempts = 80000000 # máximo numero de intentos para llenar una posición permitida\n",
    "\n",
    "#coordenadas de las esferas\n",
    "sphere_coordinates = []\n",
    "\n"
   ]
  },
  {
   "cell_type": "code",
   "execution_count": 66,
   "id": "e7486e35",
   "metadata": {},
   "outputs": [],
   "source": [
    "# definamos el overlap entre esferas existentes y esferas por posicionar\n",
    "def check_overlap(new_sphere_coords):\n",
    "    for coords in sphere_coordinates:\n",
    "        distance = np.sqrt((coords[0] - new_sphere_coords[0])**2 +\n",
    "                             (coords[1] - new_sphere_coords[1])**2 +\n",
    "                             (coords[2] - new_sphere_coords[2])**2)\n",
    "        if distance < sphere_diameter:\n",
    "            return True\n",
    "    return False\n",
    "\n",
    "\n"
   ]
  },
  {
   "cell_type": "code",
   "execution_count": null,
   "id": "231c2bcb",
   "metadata": {},
   "outputs": [],
   "source": [
    "# Creemos posiciones aleatorioas\n",
    "attempts = 0\n",
    "while True:\n",
    "    #Nuevas coordenadas aleatorias de una esfera\n",
    "    new_sphere_coords = [random.uniform(0, box_size),\n",
    "                         random.uniform(0, box_size),\n",
    "                         random.uniform(0, box_size)]\n",
    "    \n",
    "    # si existe overlap entonces...\n",
    "    if not check_overlap(new_sphere_coords):\n",
    "        # si no, coloque una nueva esfera\n",
    "        sphere_coordinates.append(new_sphere_coords)\n",
    "        \n",
    "        # MIremos cuanto volumen esta llenandose \n",
    "        filled_volume = len(sphere_coordinates) * sphere_volume\n",
    "        \n",
    "        # SI se llena entonces pare, si ocupamos todos los intentos, pare.\n",
    "        if filled_volume >= box_size**3 or attempts >= max_attempts:\n",
    "            break\n",
    "        \n",
    "    attempts += 1\n",
    "\n",
    "# Muestre numero de esferas y volumen ocupado\n",
    "print(\"Number of spheres:\", len(sphere_coordinates))\n",
    "print(\"Filled volume:\", filled_volume, \"cubic cm\")\n",
    "print(\"box volume:\",box_size**3, \"cubic cm\")"
   ]
  },
  {
   "cell_type": "code",
   "execution_count": 48,
   "id": "90039c45",
   "metadata": {},
   "outputs": [
    {
     "data": {
      "image/png": "[encoded data removed]",
      "text/plain": [
       "<Figure size 640x480 with 1 Axes>"
      ]
     },
     "metadata": {},
     "output_type": "display_data"
    }
   ],
   "source": [
    "fig = plt.figure()\n",
    "ax = fig.add_subplot(111)\n",
    "ax.set_xlim(0,box_size)\n",
    "ax.set_ylim(0,box_size)\n",
    "\n",
    "for i in range(len(sphere_coordinates)):\n",
    "    circle = plt.Circle((sphere_coordinates[i][0],sphere_coordinates[i][1]),sphere_radius)\n",
    "    ax.add_patch(circle)\n",
    "                                                        \n"
   ]
  },
  {
   "cell_type": "code",
   "execution_count": null,
   "id": "6e67af25",
   "metadata": {},
   "outputs": [],
   "source": [
    "#sphere_coordinates\n",
    "\n",
    "#np.savetxt('coord',sphere_coordinates)"
   ]
  },
  {
   "cell_type": "code",
   "execution_count": null,
   "id": "fe1647a2",
   "metadata": {},
   "outputs": [],
   "source": []
  },
  {
   "cell_type": "code",
   "execution_count": null,
   "id": "34a27e34",
   "metadata": {},
   "outputs": [],
   "source": []
  }
 ],
 "metadata": {
  "kernelspec": {
   "display_name": "Python 3",
   "language": "python",
   "name": "python3"
  },
  "language_info": {
   "codemirror_mode": {
    "name": "ipython",
    "version": 3
   },
   "file_extension": ".py",
   "mimetype": "text/x-python",
   "name": "python",
   "nbconvert_exporter": "python",
   "pygments_lexer": "ipython3",
   "version": "3.9.13"
  }
 },
 "nbformat": 4,
 "nbformat_minor": 5
}
